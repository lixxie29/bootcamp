{
 "cells": [
  {
   "cell_type": "markdown",
   "metadata": {},
   "source": [
    "# Fun with Pandas\n",
    "\n",
    "We will use data from the [ergast API](https://ergast.com/mrd/) for the following examples.\n",
    "\n",
    "[Ergast Postman collection with documentation](https://documenter.getpostman.com/view/11586746/SztEa7bL)"
   ]
  },
  {
   "cell_type": "markdown",
   "metadata": {},
   "source": [
    "## What's a Dataframe again?\n",
    "A **DataFrame** is composed of one or more **Series**. \n",
    "The names of the **Series** form the column names, and the row labels form the **Index**.\n",
    "\n",
    "You may create a Dataframe in multiple ways, i.e.\n",
    "* data from a file - df.read_csv(...)\n",
    "* data from an API - df = pd.Dataframe(json_payload)\n",
    "* data from a db\n",
    "* ...\n",
    "\n"
   ]
  },
  {
   "cell_type": "code",
   "execution_count": 1,
   "metadata": {},
   "outputs": [
    {
     "name": "stdout",
     "output_type": "stream",
     "text": [
      "Note: you may need to restart the kernel to use updated packages.\n"
     ]
    }
   ],
   "source": [
    "# first, install the requirements\n",
    "%pip install -r ../requirements.txt >> results/requirements_log.txt"
   ]
  },
  {
   "cell_type": "code",
   "execution_count": 1,
   "metadata": {},
   "outputs": [],
   "source": [
    "# import the needed libraries\n",
    "import requests\n",
    "import pandas as pd\n",
    "import numpy as np"
   ]
  },
  {
   "cell_type": "code",
   "execution_count": 3,
   "metadata": {},
   "outputs": [
    {
     "data": {
      "text/html": [
       "<div>\n",
       "<style scoped>\n",
       "    .dataframe tbody tr th:only-of-type {\n",
       "        vertical-align: middle;\n",
       "    }\n",
       "\n",
       "    .dataframe tbody tr th {\n",
       "        vertical-align: top;\n",
       "    }\n",
       "\n",
       "    .dataframe thead th {\n",
       "        text-align: right;\n",
       "    }\n",
       "</style>\n",
       "<table border=\"1\" class=\"dataframe\">\n",
       "  <thead>\n",
       "    <tr style=\"text-align: right;\">\n",
       "      <th></th>\n",
       "      <th>season</th>\n",
       "      <th>round</th>\n",
       "      <th>url</th>\n",
       "      <th>raceName</th>\n",
       "      <th>Circuit</th>\n",
       "      <th>date</th>\n",
       "      <th>time</th>\n",
       "      <th>FirstPractice</th>\n",
       "      <th>SecondPractice</th>\n",
       "      <th>ThirdPractice</th>\n",
       "      <th>Qualifying</th>\n",
       "      <th>Sprint</th>\n",
       "    </tr>\n",
       "  </thead>\n",
       "  <tbody>\n",
       "    <tr>\n",
       "      <th>0</th>\n",
       "      <td>2022</td>\n",
       "      <td>1</td>\n",
       "      <td>http://en.wikipedia.org/wiki/2022_Bahrain_Gran...</td>\n",
       "      <td>Bahrain Grand Prix</td>\n",
       "      <td>{'circuitId': 'bahrain', 'url': 'http://en.wik...</td>\n",
       "      <td>2022-03-20</td>\n",
       "      <td>15:00:00Z</td>\n",
       "      <td>{'date': '2022-03-18', 'time': '12:00:00Z'}</td>\n",
       "      <td>{'date': '2022-03-18', 'time': '15:00:00Z'}</td>\n",
       "      <td>{'date': '2022-03-19', 'time': '12:00:00Z'}</td>\n",
       "      <td>{'date': '2022-03-19', 'time': '15:00:00Z'}</td>\n",
       "      <td>NaN</td>\n",
       "    </tr>\n",
       "    <tr>\n",
       "      <th>1</th>\n",
       "      <td>2022</td>\n",
       "      <td>2</td>\n",
       "      <td>http://en.wikipedia.org/wiki/2022_Saudi_Arabia...</td>\n",
       "      <td>Saudi Arabian Grand Prix</td>\n",
       "      <td>{'circuitId': 'jeddah', 'url': 'http://en.wiki...</td>\n",
       "      <td>2022-03-27</td>\n",
       "      <td>17:00:00Z</td>\n",
       "      <td>{'date': '2022-03-25', 'time': '14:00:00Z'}</td>\n",
       "      <td>{'date': '2022-03-25', 'time': '17:00:00Z'}</td>\n",
       "      <td>{'date': '2022-03-26', 'time': '14:00:00Z'}</td>\n",
       "      <td>{'date': '2022-03-26', 'time': '17:00:00Z'}</td>\n",
       "      <td>NaN</td>\n",
       "    </tr>\n",
       "    <tr>\n",
       "      <th>2</th>\n",
       "      <td>2022</td>\n",
       "      <td>3</td>\n",
       "      <td>http://en.wikipedia.org/wiki/2022_Australian_G...</td>\n",
       "      <td>Australian Grand Prix</td>\n",
       "      <td>{'circuitId': 'albert_park', 'url': 'http://en...</td>\n",
       "      <td>2022-04-10</td>\n",
       "      <td>05:00:00Z</td>\n",
       "      <td>{'date': '2022-04-08', 'time': '03:00:00Z'}</td>\n",
       "      <td>{'date': '2022-04-08', 'time': '06:00:00Z'}</td>\n",
       "      <td>{'date': '2022-04-09', 'time': '03:00:00Z'}</td>\n",
       "      <td>{'date': '2022-04-09', 'time': '06:00:00Z'}</td>\n",
       "      <td>NaN</td>\n",
       "    </tr>\n",
       "    <tr>\n",
       "      <th>3</th>\n",
       "      <td>2022</td>\n",
       "      <td>4</td>\n",
       "      <td>http://en.wikipedia.org/wiki/2022_Emilia_Romag...</td>\n",
       "      <td>Emilia Romagna Grand Prix</td>\n",
       "      <td>{'circuitId': 'imola', 'url': 'http://en.wikip...</td>\n",
       "      <td>2022-04-24</td>\n",
       "      <td>13:00:00Z</td>\n",
       "      <td>{'date': '2022-04-22', 'time': '11:30:00Z'}</td>\n",
       "      <td>{'date': '2022-04-23', 'time': '10:30:00Z'}</td>\n",
       "      <td>NaN</td>\n",
       "      <td>{'date': '2022-04-22', 'time': '15:00:00Z'}</td>\n",
       "      <td>{'date': '2022-04-23', 'time': '14:30:00Z'}</td>\n",
       "    </tr>\n",
       "    <tr>\n",
       "      <th>4</th>\n",
       "      <td>2022</td>\n",
       "      <td>5</td>\n",
       "      <td>http://en.wikipedia.org/wiki/2022_Miami_Grand_...</td>\n",
       "      <td>Miami Grand Prix</td>\n",
       "      <td>{'circuitId': 'miami', 'url': 'http://en.wikip...</td>\n",
       "      <td>2022-05-08</td>\n",
       "      <td>19:30:00Z</td>\n",
       "      <td>{'date': '2022-05-06', 'time': '18:30:00Z'}</td>\n",
       "      <td>{'date': '2022-05-06', 'time': '21:30:00Z'}</td>\n",
       "      <td>{'date': '2022-05-07', 'time': '17:00:00Z'}</td>\n",
       "      <td>{'date': '2022-05-07', 'time': '20:00:00Z'}</td>\n",
       "      <td>NaN</td>\n",
       "    </tr>\n",
       "  </tbody>\n",
       "</table>\n",
       "</div>"
      ],
      "text/plain": [
       "  season round                                                url  \\\n",
       "0   2022     1  http://en.wikipedia.org/wiki/2022_Bahrain_Gran...   \n",
       "1   2022     2  http://en.wikipedia.org/wiki/2022_Saudi_Arabia...   \n",
       "2   2022     3  http://en.wikipedia.org/wiki/2022_Australian_G...   \n",
       "3   2022     4  http://en.wikipedia.org/wiki/2022_Emilia_Romag...   \n",
       "4   2022     5  http://en.wikipedia.org/wiki/2022_Miami_Grand_...   \n",
       "\n",
       "                    raceName  \\\n",
       "0         Bahrain Grand Prix   \n",
       "1   Saudi Arabian Grand Prix   \n",
       "2      Australian Grand Prix   \n",
       "3  Emilia Romagna Grand Prix   \n",
       "4           Miami Grand Prix   \n",
       "\n",
       "                                             Circuit        date       time  \\\n",
       "0  {'circuitId': 'bahrain', 'url': 'http://en.wik...  2022-03-20  15:00:00Z   \n",
       "1  {'circuitId': 'jeddah', 'url': 'http://en.wiki...  2022-03-27  17:00:00Z   \n",
       "2  {'circuitId': 'albert_park', 'url': 'http://en...  2022-04-10  05:00:00Z   \n",
       "3  {'circuitId': 'imola', 'url': 'http://en.wikip...  2022-04-24  13:00:00Z   \n",
       "4  {'circuitId': 'miami', 'url': 'http://en.wikip...  2022-05-08  19:30:00Z   \n",
       "\n",
       "                                 FirstPractice  \\\n",
       "0  {'date': '2022-03-18', 'time': '12:00:00Z'}   \n",
       "1  {'date': '2022-03-25', 'time': '14:00:00Z'}   \n",
       "2  {'date': '2022-04-08', 'time': '03:00:00Z'}   \n",
       "3  {'date': '2022-04-22', 'time': '11:30:00Z'}   \n",
       "4  {'date': '2022-05-06', 'time': '18:30:00Z'}   \n",
       "\n",
       "                                SecondPractice  \\\n",
       "0  {'date': '2022-03-18', 'time': '15:00:00Z'}   \n",
       "1  {'date': '2022-03-25', 'time': '17:00:00Z'}   \n",
       "2  {'date': '2022-04-08', 'time': '06:00:00Z'}   \n",
       "3  {'date': '2022-04-23', 'time': '10:30:00Z'}   \n",
       "4  {'date': '2022-05-06', 'time': '21:30:00Z'}   \n",
       "\n",
       "                                 ThirdPractice  \\\n",
       "0  {'date': '2022-03-19', 'time': '12:00:00Z'}   \n",
       "1  {'date': '2022-03-26', 'time': '14:00:00Z'}   \n",
       "2  {'date': '2022-04-09', 'time': '03:00:00Z'}   \n",
       "3                                          NaN   \n",
       "4  {'date': '2022-05-07', 'time': '17:00:00Z'}   \n",
       "\n",
       "                                    Qualifying  \\\n",
       "0  {'date': '2022-03-19', 'time': '15:00:00Z'}   \n",
       "1  {'date': '2022-03-26', 'time': '17:00:00Z'}   \n",
       "2  {'date': '2022-04-09', 'time': '06:00:00Z'}   \n",
       "3  {'date': '2022-04-22', 'time': '15:00:00Z'}   \n",
       "4  {'date': '2022-05-07', 'time': '20:00:00Z'}   \n",
       "\n",
       "                                        Sprint  \n",
       "0                                          NaN  \n",
       "1                                          NaN  \n",
       "2                                          NaN  \n",
       "3  {'date': '2022-04-23', 'time': '14:30:00Z'}  \n",
       "4                                          NaN  "
      ]
     },
     "execution_count": 3,
     "metadata": {},
     "output_type": "execute_result"
    }
   ],
   "source": [
    "# analyse a sample\n",
    "\n",
    "url = 'https://ergast.com/api/f1/2022.json'\n",
    "r = requests.get(url)\n",
    "j = r.json()\n",
    "\n",
    "df = pd.DataFrame(j['MRData']['RaceTable']['Races'])\n",
    "\n",
    "df.head()\n"
   ]
  },
  {
   "cell_type": "code",
   "execution_count": 4,
   "metadata": {},
   "outputs": [
    {
     "name": "stdout",
     "output_type": "stream",
     "text": [
      "<Response [200]>\n"
     ]
    },
    {
     "data": {
      "text/html": [
       "<div>\n",
       "<style scoped>\n",
       "    .dataframe tbody tr th:only-of-type {\n",
       "        vertical-align: middle;\n",
       "    }\n",
       "\n",
       "    .dataframe tbody tr th {\n",
       "        vertical-align: top;\n",
       "    }\n",
       "\n",
       "    .dataframe thead th {\n",
       "        text-align: right;\n",
       "    }\n",
       "</style>\n",
       "<table border=\"1\" class=\"dataframe\">\n",
       "  <thead>\n",
       "    <tr style=\"text-align: right;\">\n",
       "      <th></th>\n",
       "      <th>season</th>\n",
       "      <th>round</th>\n",
       "      <th>circuit_id</th>\n",
       "      <th>raceName</th>\n",
       "      <th>url</th>\n",
       "      <th>LAT</th>\n",
       "      <th>LONG</th>\n",
       "      <th>locality</th>\n",
       "      <th>country</th>\n",
       "      <th>date</th>\n",
       "      <th>time</th>\n",
       "    </tr>\n",
       "  </thead>\n",
       "  <tbody>\n",
       "    <tr>\n",
       "      <th>0</th>\n",
       "      <td>2022</td>\n",
       "      <td>1</td>\n",
       "      <td>bahrain</td>\n",
       "      <td>Bahrain Grand Prix</td>\n",
       "      <td>http://en.wikipedia.org/wiki/2022_Bahrain_Gran...</td>\n",
       "      <td>26.0325</td>\n",
       "      <td>50.51060</td>\n",
       "      <td>Sakhir</td>\n",
       "      <td>Bahrain</td>\n",
       "      <td>2022-03-20</td>\n",
       "      <td>15:00:00Z</td>\n",
       "    </tr>\n",
       "    <tr>\n",
       "      <th>1</th>\n",
       "      <td>2022</td>\n",
       "      <td>2</td>\n",
       "      <td>jeddah</td>\n",
       "      <td>Saudi Arabian Grand Prix</td>\n",
       "      <td>http://en.wikipedia.org/wiki/2022_Saudi_Arabia...</td>\n",
       "      <td>21.6319</td>\n",
       "      <td>39.10440</td>\n",
       "      <td>Jeddah</td>\n",
       "      <td>Saudi Arabia</td>\n",
       "      <td>2022-03-27</td>\n",
       "      <td>17:00:00Z</td>\n",
       "    </tr>\n",
       "    <tr>\n",
       "      <th>2</th>\n",
       "      <td>2022</td>\n",
       "      <td>3</td>\n",
       "      <td>albert_park</td>\n",
       "      <td>Australian Grand Prix</td>\n",
       "      <td>http://en.wikipedia.org/wiki/2022_Australian_G...</td>\n",
       "      <td>-37.8497</td>\n",
       "      <td>144.96800</td>\n",
       "      <td>Melbourne</td>\n",
       "      <td>Australia</td>\n",
       "      <td>2022-04-10</td>\n",
       "      <td>05:00:00Z</td>\n",
       "    </tr>\n",
       "    <tr>\n",
       "      <th>3</th>\n",
       "      <td>2022</td>\n",
       "      <td>4</td>\n",
       "      <td>imola</td>\n",
       "      <td>Emilia Romagna Grand Prix</td>\n",
       "      <td>http://en.wikipedia.org/wiki/2022_Emilia_Romag...</td>\n",
       "      <td>44.3439</td>\n",
       "      <td>11.71670</td>\n",
       "      <td>Imola</td>\n",
       "      <td>Italy</td>\n",
       "      <td>2022-04-24</td>\n",
       "      <td>13:00:00Z</td>\n",
       "    </tr>\n",
       "    <tr>\n",
       "      <th>4</th>\n",
       "      <td>2022</td>\n",
       "      <td>5</td>\n",
       "      <td>miami</td>\n",
       "      <td>Miami Grand Prix</td>\n",
       "      <td>http://en.wikipedia.org/wiki/2022_Miami_Grand_...</td>\n",
       "      <td>25.9581</td>\n",
       "      <td>-80.23890</td>\n",
       "      <td>Miami</td>\n",
       "      <td>USA</td>\n",
       "      <td>2022-05-08</td>\n",
       "      <td>19:30:00Z</td>\n",
       "    </tr>\n",
       "    <tr>\n",
       "      <th>5</th>\n",
       "      <td>2022</td>\n",
       "      <td>6</td>\n",
       "      <td>catalunya</td>\n",
       "      <td>Spanish Grand Prix</td>\n",
       "      <td>http://en.wikipedia.org/wiki/2022_Spanish_Gran...</td>\n",
       "      <td>41.5700</td>\n",
       "      <td>2.26111</td>\n",
       "      <td>Montmeló</td>\n",
       "      <td>Spain</td>\n",
       "      <td>2022-05-22</td>\n",
       "      <td>13:00:00Z</td>\n",
       "    </tr>\n",
       "    <tr>\n",
       "      <th>6</th>\n",
       "      <td>2022</td>\n",
       "      <td>7</td>\n",
       "      <td>monaco</td>\n",
       "      <td>Monaco Grand Prix</td>\n",
       "      <td>http://en.wikipedia.org/wiki/2022_Monaco_Grand...</td>\n",
       "      <td>43.7347</td>\n",
       "      <td>7.42056</td>\n",
       "      <td>Monte-Carlo</td>\n",
       "      <td>Monaco</td>\n",
       "      <td>2022-05-29</td>\n",
       "      <td>13:00:00Z</td>\n",
       "    </tr>\n",
       "    <tr>\n",
       "      <th>7</th>\n",
       "      <td>2022</td>\n",
       "      <td>8</td>\n",
       "      <td>baku</td>\n",
       "      <td>Azerbaijan Grand Prix</td>\n",
       "      <td>http://en.wikipedia.org/wiki/2022_Azerbaijan_G...</td>\n",
       "      <td>40.3725</td>\n",
       "      <td>49.85330</td>\n",
       "      <td>Baku</td>\n",
       "      <td>Azerbaijan</td>\n",
       "      <td>2022-06-12</td>\n",
       "      <td>11:00:00Z</td>\n",
       "    </tr>\n",
       "    <tr>\n",
       "      <th>8</th>\n",
       "      <td>2022</td>\n",
       "      <td>9</td>\n",
       "      <td>villeneuve</td>\n",
       "      <td>Canadian Grand Prix</td>\n",
       "      <td>http://en.wikipedia.org/wiki/2022_Canadian_Gra...</td>\n",
       "      <td>45.5000</td>\n",
       "      <td>-73.52280</td>\n",
       "      <td>Montreal</td>\n",
       "      <td>Canada</td>\n",
       "      <td>2022-06-19</td>\n",
       "      <td>18:00:00Z</td>\n",
       "    </tr>\n",
       "    <tr>\n",
       "      <th>9</th>\n",
       "      <td>2022</td>\n",
       "      <td>10</td>\n",
       "      <td>silverstone</td>\n",
       "      <td>British Grand Prix</td>\n",
       "      <td>http://en.wikipedia.org/wiki/2022_British_Gran...</td>\n",
       "      <td>52.0786</td>\n",
       "      <td>-1.01694</td>\n",
       "      <td>Silverstone</td>\n",
       "      <td>UK</td>\n",
       "      <td>2022-07-03</td>\n",
       "      <td>14:00:00Z</td>\n",
       "    </tr>\n",
       "    <tr>\n",
       "      <th>10</th>\n",
       "      <td>2022</td>\n",
       "      <td>11</td>\n",
       "      <td>red_bull_ring</td>\n",
       "      <td>Austrian Grand Prix</td>\n",
       "      <td>http://en.wikipedia.org/wiki/2022_Austrian_Gra...</td>\n",
       "      <td>47.2197</td>\n",
       "      <td>14.76470</td>\n",
       "      <td>Spielberg</td>\n",
       "      <td>Austria</td>\n",
       "      <td>2022-07-10</td>\n",
       "      <td>13:00:00Z</td>\n",
       "    </tr>\n",
       "    <tr>\n",
       "      <th>11</th>\n",
       "      <td>2022</td>\n",
       "      <td>12</td>\n",
       "      <td>ricard</td>\n",
       "      <td>French Grand Prix</td>\n",
       "      <td>http://en.wikipedia.org/wiki/2022_French_Grand...</td>\n",
       "      <td>43.2506</td>\n",
       "      <td>5.79167</td>\n",
       "      <td>Le Castellet</td>\n",
       "      <td>France</td>\n",
       "      <td>2022-07-24</td>\n",
       "      <td>13:00:00Z</td>\n",
       "    </tr>\n",
       "    <tr>\n",
       "      <th>12</th>\n",
       "      <td>2022</td>\n",
       "      <td>13</td>\n",
       "      <td>hungaroring</td>\n",
       "      <td>Hungarian Grand Prix</td>\n",
       "      <td>http://en.wikipedia.org/wiki/2022_Hungarian_Gr...</td>\n",
       "      <td>47.5789</td>\n",
       "      <td>19.24860</td>\n",
       "      <td>Budapest</td>\n",
       "      <td>Hungary</td>\n",
       "      <td>2022-07-31</td>\n",
       "      <td>13:00:00Z</td>\n",
       "    </tr>\n",
       "    <tr>\n",
       "      <th>13</th>\n",
       "      <td>2022</td>\n",
       "      <td>14</td>\n",
       "      <td>spa</td>\n",
       "      <td>Belgian Grand Prix</td>\n",
       "      <td>http://en.wikipedia.org/wiki/2022_Belgian_Gran...</td>\n",
       "      <td>50.4372</td>\n",
       "      <td>5.97139</td>\n",
       "      <td>Spa</td>\n",
       "      <td>Belgium</td>\n",
       "      <td>2022-08-28</td>\n",
       "      <td>13:00:00Z</td>\n",
       "    </tr>\n",
       "    <tr>\n",
       "      <th>14</th>\n",
       "      <td>2022</td>\n",
       "      <td>15</td>\n",
       "      <td>zandvoort</td>\n",
       "      <td>Dutch Grand Prix</td>\n",
       "      <td>http://en.wikipedia.org/wiki/2022_Dutch_Grand_...</td>\n",
       "      <td>52.3888</td>\n",
       "      <td>4.54092</td>\n",
       "      <td>Zandvoort</td>\n",
       "      <td>Netherlands</td>\n",
       "      <td>2022-09-04</td>\n",
       "      <td>13:00:00Z</td>\n",
       "    </tr>\n",
       "    <tr>\n",
       "      <th>15</th>\n",
       "      <td>2022</td>\n",
       "      <td>16</td>\n",
       "      <td>monza</td>\n",
       "      <td>Italian Grand Prix</td>\n",
       "      <td>http://en.wikipedia.org/wiki/2022_Italian_Gran...</td>\n",
       "      <td>45.6156</td>\n",
       "      <td>9.28111</td>\n",
       "      <td>Monza</td>\n",
       "      <td>Italy</td>\n",
       "      <td>2022-09-11</td>\n",
       "      <td>13:00:00Z</td>\n",
       "    </tr>\n",
       "    <tr>\n",
       "      <th>16</th>\n",
       "      <td>2022</td>\n",
       "      <td>17</td>\n",
       "      <td>marina_bay</td>\n",
       "      <td>Singapore Grand Prix</td>\n",
       "      <td>http://en.wikipedia.org/wiki/2022_Singapore_Gr...</td>\n",
       "      <td>1.2914</td>\n",
       "      <td>103.86400</td>\n",
       "      <td>Marina Bay</td>\n",
       "      <td>Singapore</td>\n",
       "      <td>2022-10-02</td>\n",
       "      <td>12:00:00Z</td>\n",
       "    </tr>\n",
       "    <tr>\n",
       "      <th>17</th>\n",
       "      <td>2022</td>\n",
       "      <td>18</td>\n",
       "      <td>suzuka</td>\n",
       "      <td>Japanese Grand Prix</td>\n",
       "      <td>http://en.wikipedia.org/wiki/2022_Japanese_Gra...</td>\n",
       "      <td>34.8431</td>\n",
       "      <td>136.54100</td>\n",
       "      <td>Suzuka</td>\n",
       "      <td>Japan</td>\n",
       "      <td>2022-10-09</td>\n",
       "      <td>05:00:00Z</td>\n",
       "    </tr>\n",
       "    <tr>\n",
       "      <th>18</th>\n",
       "      <td>2022</td>\n",
       "      <td>19</td>\n",
       "      <td>americas</td>\n",
       "      <td>United States Grand Prix</td>\n",
       "      <td>http://en.wikipedia.org/wiki/2022_United_State...</td>\n",
       "      <td>30.1328</td>\n",
       "      <td>-97.64110</td>\n",
       "      <td>Austin</td>\n",
       "      <td>USA</td>\n",
       "      <td>2022-10-23</td>\n",
       "      <td>19:00:00Z</td>\n",
       "    </tr>\n",
       "    <tr>\n",
       "      <th>19</th>\n",
       "      <td>2022</td>\n",
       "      <td>20</td>\n",
       "      <td>rodriguez</td>\n",
       "      <td>Mexico City Grand Prix</td>\n",
       "      <td>http://en.wikipedia.org/wiki/2022_Mexican_Gran...</td>\n",
       "      <td>19.4042</td>\n",
       "      <td>-99.09070</td>\n",
       "      <td>Mexico City</td>\n",
       "      <td>Mexico</td>\n",
       "      <td>2022-10-30</td>\n",
       "      <td>20:00:00Z</td>\n",
       "    </tr>\n",
       "    <tr>\n",
       "      <th>20</th>\n",
       "      <td>2022</td>\n",
       "      <td>21</td>\n",
       "      <td>interlagos</td>\n",
       "      <td>Brazilian Grand Prix</td>\n",
       "      <td>http://en.wikipedia.org/wiki/2022_Brazilian_Gr...</td>\n",
       "      <td>-23.7036</td>\n",
       "      <td>-46.69970</td>\n",
       "      <td>São Paulo</td>\n",
       "      <td>Brazil</td>\n",
       "      <td>2022-11-13</td>\n",
       "      <td>18:00:00Z</td>\n",
       "    </tr>\n",
       "    <tr>\n",
       "      <th>21</th>\n",
       "      <td>2022</td>\n",
       "      <td>22</td>\n",
       "      <td>yas_marina</td>\n",
       "      <td>Abu Dhabi Grand Prix</td>\n",
       "      <td>http://en.wikipedia.org/wiki/2022_Abu_Dhabi_Gr...</td>\n",
       "      <td>24.4672</td>\n",
       "      <td>54.60310</td>\n",
       "      <td>Abu Dhabi</td>\n",
       "      <td>UAE</td>\n",
       "      <td>2022-11-20</td>\n",
       "      <td>13:00:00Z</td>\n",
       "    </tr>\n",
       "  </tbody>\n",
       "</table>\n",
       "</div>"
      ],
      "text/plain": [
       "    season  round     circuit_id                   raceName  \\\n",
       "0     2022      1        bahrain         Bahrain Grand Prix   \n",
       "1     2022      2         jeddah   Saudi Arabian Grand Prix   \n",
       "2     2022      3    albert_park      Australian Grand Prix   \n",
       "3     2022      4          imola  Emilia Romagna Grand Prix   \n",
       "4     2022      5          miami           Miami Grand Prix   \n",
       "5     2022      6      catalunya         Spanish Grand Prix   \n",
       "6     2022      7         monaco          Monaco Grand Prix   \n",
       "7     2022      8           baku      Azerbaijan Grand Prix   \n",
       "8     2022      9     villeneuve        Canadian Grand Prix   \n",
       "9     2022     10    silverstone         British Grand Prix   \n",
       "10    2022     11  red_bull_ring        Austrian Grand Prix   \n",
       "11    2022     12         ricard          French Grand Prix   \n",
       "12    2022     13    hungaroring       Hungarian Grand Prix   \n",
       "13    2022     14            spa         Belgian Grand Prix   \n",
       "14    2022     15      zandvoort           Dutch Grand Prix   \n",
       "15    2022     16          monza         Italian Grand Prix   \n",
       "16    2022     17     marina_bay       Singapore Grand Prix   \n",
       "17    2022     18         suzuka        Japanese Grand Prix   \n",
       "18    2022     19       americas   United States Grand Prix   \n",
       "19    2022     20      rodriguez     Mexico City Grand Prix   \n",
       "20    2022     21     interlagos       Brazilian Grand Prix   \n",
       "21    2022     22     yas_marina       Abu Dhabi Grand Prix   \n",
       "\n",
       "                                                  url      LAT       LONG  \\\n",
       "0   http://en.wikipedia.org/wiki/2022_Bahrain_Gran...  26.0325   50.51060   \n",
       "1   http://en.wikipedia.org/wiki/2022_Saudi_Arabia...  21.6319   39.10440   \n",
       "2   http://en.wikipedia.org/wiki/2022_Australian_G... -37.8497  144.96800   \n",
       "3   http://en.wikipedia.org/wiki/2022_Emilia_Romag...  44.3439   11.71670   \n",
       "4   http://en.wikipedia.org/wiki/2022_Miami_Grand_...  25.9581  -80.23890   \n",
       "5   http://en.wikipedia.org/wiki/2022_Spanish_Gran...  41.5700    2.26111   \n",
       "6   http://en.wikipedia.org/wiki/2022_Monaco_Grand...  43.7347    7.42056   \n",
       "7   http://en.wikipedia.org/wiki/2022_Azerbaijan_G...  40.3725   49.85330   \n",
       "8   http://en.wikipedia.org/wiki/2022_Canadian_Gra...  45.5000  -73.52280   \n",
       "9   http://en.wikipedia.org/wiki/2022_British_Gran...  52.0786   -1.01694   \n",
       "10  http://en.wikipedia.org/wiki/2022_Austrian_Gra...  47.2197   14.76470   \n",
       "11  http://en.wikipedia.org/wiki/2022_French_Grand...  43.2506    5.79167   \n",
       "12  http://en.wikipedia.org/wiki/2022_Hungarian_Gr...  47.5789   19.24860   \n",
       "13  http://en.wikipedia.org/wiki/2022_Belgian_Gran...  50.4372    5.97139   \n",
       "14  http://en.wikipedia.org/wiki/2022_Dutch_Grand_...  52.3888    4.54092   \n",
       "15  http://en.wikipedia.org/wiki/2022_Italian_Gran...  45.6156    9.28111   \n",
       "16  http://en.wikipedia.org/wiki/2022_Singapore_Gr...   1.2914  103.86400   \n",
       "17  http://en.wikipedia.org/wiki/2022_Japanese_Gra...  34.8431  136.54100   \n",
       "18  http://en.wikipedia.org/wiki/2022_United_State...  30.1328  -97.64110   \n",
       "19  http://en.wikipedia.org/wiki/2022_Mexican_Gran...  19.4042  -99.09070   \n",
       "20  http://en.wikipedia.org/wiki/2022_Brazilian_Gr... -23.7036  -46.69970   \n",
       "21  http://en.wikipedia.org/wiki/2022_Abu_Dhabi_Gr...  24.4672   54.60310   \n",
       "\n",
       "        locality       country        date       time  \n",
       "0         Sakhir       Bahrain  2022-03-20  15:00:00Z  \n",
       "1         Jeddah  Saudi Arabia  2022-03-27  17:00:00Z  \n",
       "2      Melbourne     Australia  2022-04-10  05:00:00Z  \n",
       "3          Imola         Italy  2022-04-24  13:00:00Z  \n",
       "4          Miami           USA  2022-05-08  19:30:00Z  \n",
       "5       Montmeló         Spain  2022-05-22  13:00:00Z  \n",
       "6    Monte-Carlo        Monaco  2022-05-29  13:00:00Z  \n",
       "7           Baku    Azerbaijan  2022-06-12  11:00:00Z  \n",
       "8       Montreal        Canada  2022-06-19  18:00:00Z  \n",
       "9    Silverstone            UK  2022-07-03  14:00:00Z  \n",
       "10     Spielberg       Austria  2022-07-10  13:00:00Z  \n",
       "11  Le Castellet        France  2022-07-24  13:00:00Z  \n",
       "12      Budapest       Hungary  2022-07-31  13:00:00Z  \n",
       "13           Spa       Belgium  2022-08-28  13:00:00Z  \n",
       "14     Zandvoort   Netherlands  2022-09-04  13:00:00Z  \n",
       "15         Monza         Italy  2022-09-11  13:00:00Z  \n",
       "16    Marina Bay     Singapore  2022-10-02  12:00:00Z  \n",
       "17        Suzuka         Japan  2022-10-09  05:00:00Z  \n",
       "18        Austin           USA  2022-10-23  19:00:00Z  \n",
       "19   Mexico City        Mexico  2022-10-30  20:00:00Z  \n",
       "20     São Paulo        Brazil  2022-11-13  18:00:00Z  \n",
       "21     Abu Dhabi           UAE  2022-11-20  13:00:00Z  "
      ]
     },
     "execution_count": 4,
     "metadata": {},
     "output_type": "execute_result"
    }
   ],
   "source": [
    "# pull the f1 2022 season races information from the ergast API\n",
    "\n",
    "f1_races_2022 = {\n",
    "    'season': [],\n",
    "    'round': [],\n",
    "    'circuit_id': [],\n",
    "    'raceName': [],\n",
    "    'url': [],\n",
    "    'LAT': [],\n",
    "    'LONG': [],\n",
    "    'locality': [],\n",
    "    'country': [],\n",
    "    'date': [],\n",
    "    'time': []\n",
    "}\n",
    "\n",
    "url = 'https://ergast.com/api/f1/2022.json'\n",
    "r = requests.get(url)\n",
    "print(r)\n",
    "j = r.json()\n",
    "\n",
    "for item in j['MRData']['RaceTable']['Races']:\n",
    "    try:\n",
    "        f1_races_2022['season'].append(int(item['season']))\n",
    "        f1_races_2022['round'].append(int(item['round']))\n",
    "        f1_races_2022['circuit_id'].append(item['Circuit']['circuitId'])\n",
    "        f1_races_2022['raceName'].append(item['raceName'])\n",
    "        f1_races_2022['url'].append(item['url'])\n",
    "        f1_races_2022['LAT'].append(float(item['Circuit']['Location']['lat']))\n",
    "        f1_races_2022['LONG'].append(float(item['Circuit']['Location']['long']))\n",
    "        f1_races_2022['locality'].append(item['Circuit']['Location']['locality'])\n",
    "        f1_races_2022['country'].append(item['Circuit']['Location']['country'])\n",
    "        f1_races_2022['date'].append(item['date'])\n",
    "        f1_races_2022['time'].append(item.get('time'))\n",
    "    except Exception as e:\n",
    "        print(f'Error adding item: {item}')\n",
    "        print(e)\n",
    "        raise\n",
    "\n",
    "f1_races_2022 = pd.DataFrame(f1_races_2022)\n",
    "f1_races_2022"
   ]
  },
  {
   "cell_type": "code",
   "execution_count": 5,
   "metadata": {},
   "outputs": [],
   "source": [
    "# in order not to stress the API, use the backup file for the historical data\n",
    "f1_races = pd.read_csv('./resources/f1_races.csv', index_col=0)"
   ]
  },
  {
   "cell_type": "code",
   "execution_count": 6,
   "metadata": {},
   "outputs": [
    {
     "data": {
      "text/html": [
       "<div>\n",
       "<style scoped>\n",
       "    .dataframe tbody tr th:only-of-type {\n",
       "        vertical-align: middle;\n",
       "    }\n",
       "\n",
       "    .dataframe tbody tr th {\n",
       "        vertical-align: top;\n",
       "    }\n",
       "\n",
       "    .dataframe thead th {\n",
       "        text-align: right;\n",
       "    }\n",
       "</style>\n",
       "<table border=\"1\" class=\"dataframe\">\n",
       "  <thead>\n",
       "    <tr style=\"text-align: right;\">\n",
       "      <th></th>\n",
       "      <th>season</th>\n",
       "      <th>round</th>\n",
       "      <th>circuit_id</th>\n",
       "      <th>raceName</th>\n",
       "      <th>url</th>\n",
       "      <th>LAT</th>\n",
       "      <th>LONG</th>\n",
       "      <th>locality</th>\n",
       "      <th>country</th>\n",
       "      <th>date</th>\n",
       "      <th>time</th>\n",
       "    </tr>\n",
       "  </thead>\n",
       "  <tbody>\n",
       "    <tr>\n",
       "      <th>0</th>\n",
       "      <td>1950</td>\n",
       "      <td>1</td>\n",
       "      <td>silverstone</td>\n",
       "      <td>British Grand Prix</td>\n",
       "      <td>http://en.wikipedia.org/wiki/1950_British_Gran...</td>\n",
       "      <td>52.0786</td>\n",
       "      <td>-1.01694</td>\n",
       "      <td>Silverstone</td>\n",
       "      <td>UK</td>\n",
       "      <td>1950-05-13</td>\n",
       "      <td>NaN</td>\n",
       "    </tr>\n",
       "    <tr>\n",
       "      <th>1</th>\n",
       "      <td>1950</td>\n",
       "      <td>2</td>\n",
       "      <td>monaco</td>\n",
       "      <td>Monaco Grand Prix</td>\n",
       "      <td>http://en.wikipedia.org/wiki/1950_Monaco_Grand...</td>\n",
       "      <td>43.7347</td>\n",
       "      <td>7.42056</td>\n",
       "      <td>Monte-Carlo</td>\n",
       "      <td>Monaco</td>\n",
       "      <td>1950-05-21</td>\n",
       "      <td>NaN</td>\n",
       "    </tr>\n",
       "    <tr>\n",
       "      <th>2</th>\n",
       "      <td>1950</td>\n",
       "      <td>3</td>\n",
       "      <td>indianapolis</td>\n",
       "      <td>Indianapolis 500</td>\n",
       "      <td>http://en.wikipedia.org/wiki/1950_Indianapolis...</td>\n",
       "      <td>39.7950</td>\n",
       "      <td>-86.23470</td>\n",
       "      <td>Indianapolis</td>\n",
       "      <td>USA</td>\n",
       "      <td>1950-05-30</td>\n",
       "      <td>NaN</td>\n",
       "    </tr>\n",
       "    <tr>\n",
       "      <th>3</th>\n",
       "      <td>1950</td>\n",
       "      <td>4</td>\n",
       "      <td>bremgarten</td>\n",
       "      <td>Swiss Grand Prix</td>\n",
       "      <td>http://en.wikipedia.org/wiki/1950_Swiss_Grand_...</td>\n",
       "      <td>46.9589</td>\n",
       "      <td>7.40194</td>\n",
       "      <td>Bern</td>\n",
       "      <td>Switzerland</td>\n",
       "      <td>1950-06-04</td>\n",
       "      <td>NaN</td>\n",
       "    </tr>\n",
       "    <tr>\n",
       "      <th>4</th>\n",
       "      <td>1950</td>\n",
       "      <td>5</td>\n",
       "      <td>spa</td>\n",
       "      <td>Belgian Grand Prix</td>\n",
       "      <td>http://en.wikipedia.org/wiki/1950_Belgian_Gran...</td>\n",
       "      <td>50.4372</td>\n",
       "      <td>5.97139</td>\n",
       "      <td>Spa</td>\n",
       "      <td>Belgium</td>\n",
       "      <td>1950-06-18</td>\n",
       "      <td>NaN</td>\n",
       "    </tr>\n",
       "  </tbody>\n",
       "</table>\n",
       "</div>"
      ],
      "text/plain": [
       "   season  round    circuit_id            raceName  \\\n",
       "0    1950      1   silverstone  British Grand Prix   \n",
       "1    1950      2        monaco   Monaco Grand Prix   \n",
       "2    1950      3  indianapolis    Indianapolis 500   \n",
       "3    1950      4    bremgarten    Swiss Grand Prix   \n",
       "4    1950      5           spa  Belgian Grand Prix   \n",
       "\n",
       "                                                 url      LAT      LONG  \\\n",
       "0  http://en.wikipedia.org/wiki/1950_British_Gran...  52.0786  -1.01694   \n",
       "1  http://en.wikipedia.org/wiki/1950_Monaco_Grand...  43.7347   7.42056   \n",
       "2  http://en.wikipedia.org/wiki/1950_Indianapolis...  39.7950 -86.23470   \n",
       "3  http://en.wikipedia.org/wiki/1950_Swiss_Grand_...  46.9589   7.40194   \n",
       "4  http://en.wikipedia.org/wiki/1950_Belgian_Gran...  50.4372   5.97139   \n",
       "\n",
       "       locality      country        date time  \n",
       "0   Silverstone           UK  1950-05-13  NaN  \n",
       "1   Monte-Carlo       Monaco  1950-05-21  NaN  \n",
       "2  Indianapolis          USA  1950-05-30  NaN  \n",
       "3          Bern  Switzerland  1950-06-04  NaN  \n",
       "4           Spa      Belgium  1950-06-18  NaN  "
      ]
     },
     "execution_count": 6,
     "metadata": {},
     "output_type": "execute_result"
    }
   ],
   "source": [
    "f1_races.head()"
   ]
  },
  {
   "cell_type": "markdown",
   "metadata": {},
   "source": [
    "### Series"
   ]
  },
  {
   "cell_type": "code",
   "execution_count": 7,
   "metadata": {},
   "outputs": [
    {
     "data": {
      "text/plain": [
       "0        silverstone\n",
       "1             monaco\n",
       "2       indianapolis\n",
       "3         bremgarten\n",
       "4                spa\n",
       "            ...     \n",
       "1074          suzuka\n",
       "1075        americas\n",
       "1076       rodriguez\n",
       "1077      interlagos\n",
       "1078      yas_marina\n",
       "Name: circuit_id, Length: 1079, dtype: object"
      ]
     },
     "execution_count": 7,
     "metadata": {},
     "output_type": "execute_result"
    }
   ],
   "source": [
    "f1_races.circuit_id"
   ]
  },
  {
   "cell_type": "markdown",
   "metadata": {},
   "source": [
    "### Columns"
   ]
  },
  {
   "cell_type": "code",
   "execution_count": 8,
   "metadata": {},
   "outputs": [
    {
     "data": {
      "text/plain": [
       "Index(['season', 'round', 'circuit_id', 'raceName', 'url', 'LAT', 'LONG',\n",
       "       'locality', 'country', 'date', 'time'],\n",
       "      dtype='object')"
      ]
     },
     "execution_count": 8,
     "metadata": {},
     "output_type": "execute_result"
    }
   ],
   "source": [
    "f1_races.columns"
   ]
  },
  {
   "cell_type": "markdown",
   "metadata": {},
   "source": [
    "### Index"
   ]
  },
  {
   "cell_type": "code",
   "execution_count": 9,
   "metadata": {},
   "outputs": [
    {
     "data": {
      "text/plain": [
       "Int64Index([   0,    1,    2,    3,    4,    5,    6,    7,    8,    9,\n",
       "            ...\n",
       "            1069, 1070, 1071, 1072, 1073, 1074, 1075, 1076, 1077, 1078],\n",
       "           dtype='int64', length=1079)"
      ]
     },
     "execution_count": 9,
     "metadata": {},
     "output_type": "execute_result"
    }
   ],
   "source": [
    "f1_races.index"
   ]
  },
  {
   "cell_type": "markdown",
   "metadata": {},
   "source": [
    "### Inspect the data"
   ]
  },
  {
   "cell_type": "code",
   "execution_count": 11,
   "metadata": {},
   "outputs": [
    {
     "data": {
      "text/plain": [
       "(1079, 11)"
      ]
     },
     "execution_count": 11,
     "metadata": {},
     "output_type": "execute_result"
    }
   ],
   "source": [
    "f1_races.shape"
   ]
  },
  {
   "cell_type": "markdown",
   "metadata": {},
   "source": [
    "### What are the column data types?"
   ]
  },
  {
   "cell_type": "code",
   "execution_count": 12,
   "metadata": {},
   "outputs": [
    {
     "data": {
      "text/plain": [
       "season          int64\n",
       "round           int64\n",
       "circuit_id     object\n",
       "raceName       object\n",
       "url            object\n",
       "LAT           float64\n",
       "LONG          float64\n",
       "locality       object\n",
       "country        object\n",
       "date           object\n",
       "time           object\n",
       "dtype: object"
      ]
     },
     "execution_count": 12,
     "metadata": {},
     "output_type": "execute_result"
    }
   ],
   "source": [
    "f1_races.dtypes"
   ]
  },
  {
   "cell_type": "markdown",
   "metadata": {},
   "source": [
    "### What does the data look like?"
   ]
  },
  {
   "cell_type": "code",
   "execution_count": 13,
   "metadata": {},
   "outputs": [
    {
     "data": {
      "text/html": [
       "<div>\n",
       "<style scoped>\n",
       "    .dataframe tbody tr th:only-of-type {\n",
       "        vertical-align: middle;\n",
       "    }\n",
       "\n",
       "    .dataframe tbody tr th {\n",
       "        vertical-align: top;\n",
       "    }\n",
       "\n",
       "    .dataframe thead th {\n",
       "        text-align: right;\n",
       "    }\n",
       "</style>\n",
       "<table border=\"1\" class=\"dataframe\">\n",
       "  <thead>\n",
       "    <tr style=\"text-align: right;\">\n",
       "      <th></th>\n",
       "      <th>season</th>\n",
       "      <th>round</th>\n",
       "      <th>circuit_id</th>\n",
       "      <th>raceName</th>\n",
       "      <th>url</th>\n",
       "      <th>LAT</th>\n",
       "      <th>LONG</th>\n",
       "      <th>locality</th>\n",
       "      <th>country</th>\n",
       "      <th>date</th>\n",
       "      <th>time</th>\n",
       "    </tr>\n",
       "  </thead>\n",
       "  <tbody>\n",
       "    <tr>\n",
       "      <th>0</th>\n",
       "      <td>1950</td>\n",
       "      <td>1</td>\n",
       "      <td>silverstone</td>\n",
       "      <td>British Grand Prix</td>\n",
       "      <td>http://en.wikipedia.org/wiki/1950_British_Gran...</td>\n",
       "      <td>52.0786</td>\n",
       "      <td>-1.01694</td>\n",
       "      <td>Silverstone</td>\n",
       "      <td>UK</td>\n",
       "      <td>1950-05-13</td>\n",
       "      <td>NaN</td>\n",
       "    </tr>\n",
       "    <tr>\n",
       "      <th>1</th>\n",
       "      <td>1950</td>\n",
       "      <td>2</td>\n",
       "      <td>monaco</td>\n",
       "      <td>Monaco Grand Prix</td>\n",
       "      <td>http://en.wikipedia.org/wiki/1950_Monaco_Grand...</td>\n",
       "      <td>43.7347</td>\n",
       "      <td>7.42056</td>\n",
       "      <td>Monte-Carlo</td>\n",
       "      <td>Monaco</td>\n",
       "      <td>1950-05-21</td>\n",
       "      <td>NaN</td>\n",
       "    </tr>\n",
       "    <tr>\n",
       "      <th>2</th>\n",
       "      <td>1950</td>\n",
       "      <td>3</td>\n",
       "      <td>indianapolis</td>\n",
       "      <td>Indianapolis 500</td>\n",
       "      <td>http://en.wikipedia.org/wiki/1950_Indianapolis...</td>\n",
       "      <td>39.7950</td>\n",
       "      <td>-86.23470</td>\n",
       "      <td>Indianapolis</td>\n",
       "      <td>USA</td>\n",
       "      <td>1950-05-30</td>\n",
       "      <td>NaN</td>\n",
       "    </tr>\n",
       "    <tr>\n",
       "      <th>3</th>\n",
       "      <td>1950</td>\n",
       "      <td>4</td>\n",
       "      <td>bremgarten</td>\n",
       "      <td>Swiss Grand Prix</td>\n",
       "      <td>http://en.wikipedia.org/wiki/1950_Swiss_Grand_...</td>\n",
       "      <td>46.9589</td>\n",
       "      <td>7.40194</td>\n",
       "      <td>Bern</td>\n",
       "      <td>Switzerland</td>\n",
       "      <td>1950-06-04</td>\n",
       "      <td>NaN</td>\n",
       "    </tr>\n",
       "    <tr>\n",
       "      <th>4</th>\n",
       "      <td>1950</td>\n",
       "      <td>5</td>\n",
       "      <td>spa</td>\n",
       "      <td>Belgian Grand Prix</td>\n",
       "      <td>http://en.wikipedia.org/wiki/1950_Belgian_Gran...</td>\n",
       "      <td>50.4372</td>\n",
       "      <td>5.97139</td>\n",
       "      <td>Spa</td>\n",
       "      <td>Belgium</td>\n",
       "      <td>1950-06-18</td>\n",
       "      <td>NaN</td>\n",
       "    </tr>\n",
       "  </tbody>\n",
       "</table>\n",
       "</div>"
      ],
      "text/plain": [
       "   season  round    circuit_id            raceName  \\\n",
       "0    1950      1   silverstone  British Grand Prix   \n",
       "1    1950      2        monaco   Monaco Grand Prix   \n",
       "2    1950      3  indianapolis    Indianapolis 500   \n",
       "3    1950      4    bremgarten    Swiss Grand Prix   \n",
       "4    1950      5           spa  Belgian Grand Prix   \n",
       "\n",
       "                                                 url      LAT      LONG  \\\n",
       "0  http://en.wikipedia.org/wiki/1950_British_Gran...  52.0786  -1.01694   \n",
       "1  http://en.wikipedia.org/wiki/1950_Monaco_Grand...  43.7347   7.42056   \n",
       "2  http://en.wikipedia.org/wiki/1950_Indianapolis...  39.7950 -86.23470   \n",
       "3  http://en.wikipedia.org/wiki/1950_Swiss_Grand_...  46.9589   7.40194   \n",
       "4  http://en.wikipedia.org/wiki/1950_Belgian_Gran...  50.4372   5.97139   \n",
       "\n",
       "       locality      country        date time  \n",
       "0   Silverstone           UK  1950-05-13  NaN  \n",
       "1   Monte-Carlo       Monaco  1950-05-21  NaN  \n",
       "2  Indianapolis          USA  1950-05-30  NaN  \n",
       "3          Bern  Switzerland  1950-06-04  NaN  \n",
       "4           Spa      Belgium  1950-06-18  NaN  "
      ]
     },
     "execution_count": 13,
     "metadata": {},
     "output_type": "execute_result"
    }
   ],
   "source": [
    "f1_races.head()"
   ]
  },
  {
   "cell_type": "code",
   "execution_count": 14,
   "metadata": {},
   "outputs": [
    {
     "data": {
      "text/html": [
       "<div>\n",
       "<style scoped>\n",
       "    .dataframe tbody tr th:only-of-type {\n",
       "        vertical-align: middle;\n",
       "    }\n",
       "\n",
       "    .dataframe tbody tr th {\n",
       "        vertical-align: top;\n",
       "    }\n",
       "\n",
       "    .dataframe thead th {\n",
       "        text-align: right;\n",
       "    }\n",
       "</style>\n",
       "<table border=\"1\" class=\"dataframe\">\n",
       "  <thead>\n",
       "    <tr style=\"text-align: right;\">\n",
       "      <th></th>\n",
       "      <th>season</th>\n",
       "      <th>round</th>\n",
       "      <th>circuit_id</th>\n",
       "      <th>raceName</th>\n",
       "      <th>url</th>\n",
       "      <th>LAT</th>\n",
       "      <th>LONG</th>\n",
       "      <th>locality</th>\n",
       "      <th>country</th>\n",
       "      <th>date</th>\n",
       "      <th>time</th>\n",
       "    </tr>\n",
       "  </thead>\n",
       "  <tbody>\n",
       "    <tr>\n",
       "      <th>1074</th>\n",
       "      <td>2022</td>\n",
       "      <td>18</td>\n",
       "      <td>suzuka</td>\n",
       "      <td>Japanese Grand Prix</td>\n",
       "      <td>http://en.wikipedia.org/wiki/2022_Japanese_Gra...</td>\n",
       "      <td>34.8431</td>\n",
       "      <td>136.5410</td>\n",
       "      <td>Suzuka</td>\n",
       "      <td>Japan</td>\n",
       "      <td>2022-10-09</td>\n",
       "      <td>05:00:00Z</td>\n",
       "    </tr>\n",
       "    <tr>\n",
       "      <th>1075</th>\n",
       "      <td>2022</td>\n",
       "      <td>19</td>\n",
       "      <td>americas</td>\n",
       "      <td>United States Grand Prix</td>\n",
       "      <td>http://en.wikipedia.org/wiki/2022_United_State...</td>\n",
       "      <td>30.1328</td>\n",
       "      <td>-97.6411</td>\n",
       "      <td>Austin</td>\n",
       "      <td>USA</td>\n",
       "      <td>2022-10-23</td>\n",
       "      <td>19:00:00Z</td>\n",
       "    </tr>\n",
       "    <tr>\n",
       "      <th>1076</th>\n",
       "      <td>2022</td>\n",
       "      <td>20</td>\n",
       "      <td>rodriguez</td>\n",
       "      <td>Mexico City Grand Prix</td>\n",
       "      <td>http://en.wikipedia.org/wiki/2022_Mexican_Gran...</td>\n",
       "      <td>19.4042</td>\n",
       "      <td>-99.0907</td>\n",
       "      <td>Mexico City</td>\n",
       "      <td>Mexico</td>\n",
       "      <td>2022-10-30</td>\n",
       "      <td>20:00:00Z</td>\n",
       "    </tr>\n",
       "    <tr>\n",
       "      <th>1077</th>\n",
       "      <td>2022</td>\n",
       "      <td>21</td>\n",
       "      <td>interlagos</td>\n",
       "      <td>Brazilian Grand Prix</td>\n",
       "      <td>http://en.wikipedia.org/wiki/2022_Brazilian_Gr...</td>\n",
       "      <td>-23.7036</td>\n",
       "      <td>-46.6997</td>\n",
       "      <td>São Paulo</td>\n",
       "      <td>Brazil</td>\n",
       "      <td>2022-11-13</td>\n",
       "      <td>18:00:00Z</td>\n",
       "    </tr>\n",
       "    <tr>\n",
       "      <th>1078</th>\n",
       "      <td>2022</td>\n",
       "      <td>22</td>\n",
       "      <td>yas_marina</td>\n",
       "      <td>Abu Dhabi Grand Prix</td>\n",
       "      <td>http://en.wikipedia.org/wiki/2022_Abu_Dhabi_Gr...</td>\n",
       "      <td>24.4672</td>\n",
       "      <td>54.6031</td>\n",
       "      <td>Abu Dhabi</td>\n",
       "      <td>UAE</td>\n",
       "      <td>2022-11-20</td>\n",
       "      <td>13:00:00Z</td>\n",
       "    </tr>\n",
       "  </tbody>\n",
       "</table>\n",
       "</div>"
      ],
      "text/plain": [
       "      season  round  circuit_id                  raceName  \\\n",
       "1074    2022     18      suzuka       Japanese Grand Prix   \n",
       "1075    2022     19    americas  United States Grand Prix   \n",
       "1076    2022     20   rodriguez    Mexico City Grand Prix   \n",
       "1077    2022     21  interlagos      Brazilian Grand Prix   \n",
       "1078    2022     22  yas_marina      Abu Dhabi Grand Prix   \n",
       "\n",
       "                                                    url      LAT      LONG  \\\n",
       "1074  http://en.wikipedia.org/wiki/2022_Japanese_Gra...  34.8431  136.5410   \n",
       "1075  http://en.wikipedia.org/wiki/2022_United_State...  30.1328  -97.6411   \n",
       "1076  http://en.wikipedia.org/wiki/2022_Mexican_Gran...  19.4042  -99.0907   \n",
       "1077  http://en.wikipedia.org/wiki/2022_Brazilian_Gr... -23.7036  -46.6997   \n",
       "1078  http://en.wikipedia.org/wiki/2022_Abu_Dhabi_Gr...  24.4672   54.6031   \n",
       "\n",
       "         locality country        date       time  \n",
       "1074       Suzuka   Japan  2022-10-09  05:00:00Z  \n",
       "1075       Austin     USA  2022-10-23  19:00:00Z  \n",
       "1076  Mexico City  Mexico  2022-10-30  20:00:00Z  \n",
       "1077    São Paulo  Brazil  2022-11-13  18:00:00Z  \n",
       "1078    Abu Dhabi     UAE  2022-11-20  13:00:00Z  "
      ]
     },
     "execution_count": 14,
     "metadata": {},
     "output_type": "execute_result"
    }
   ],
   "source": [
    "f1_races.tail()"
   ]
  },
  {
   "cell_type": "markdown",
   "metadata": {},
   "source": [
    "### Information on the Dataframe"
   ]
  },
  {
   "cell_type": "code",
   "execution_count": 10,
   "metadata": {},
   "outputs": [
    {
     "name": "stdout",
     "output_type": "stream",
     "text": [
      "<class 'pandas.core.frame.DataFrame'>\n",
      "Int64Index: 1079 entries, 0 to 1078\n",
      "Data columns (total 11 columns):\n",
      " #   Column      Non-Null Count  Dtype  \n",
      "---  ------      --------------  -----  \n",
      " 0   season      1079 non-null   int64  \n",
      " 1   round       1079 non-null   int64  \n",
      " 2   circuit_id  1079 non-null   object \n",
      " 3   raceName    1079 non-null   object \n",
      " 4   url         1079 non-null   object \n",
      " 5   LAT         1079 non-null   float64\n",
      " 6   LONG        1079 non-null   float64\n",
      " 7   locality    1079 non-null   object \n",
      " 8   country     1079 non-null   object \n",
      " 9   date        1079 non-null   object \n",
      " 10  time        348 non-null    object \n",
      "dtypes: float64(2), int64(2), object(7)\n",
      "memory usage: 101.2+ KB\n"
     ]
    }
   ],
   "source": [
    "f1_races.info()"
   ]
  },
  {
   "cell_type": "code",
   "execution_count": 15,
   "metadata": {},
   "outputs": [
    {
     "data": {
      "text/html": [
       "<div>\n",
       "<style scoped>\n",
       "    .dataframe tbody tr th:only-of-type {\n",
       "        vertical-align: middle;\n",
       "    }\n",
       "\n",
       "    .dataframe tbody tr th {\n",
       "        vertical-align: top;\n",
       "    }\n",
       "\n",
       "    .dataframe thead th {\n",
       "        text-align: right;\n",
       "    }\n",
       "</style>\n",
       "<table border=\"1\" class=\"dataframe\">\n",
       "  <thead>\n",
       "    <tr style=\"text-align: right;\">\n",
       "      <th></th>\n",
       "      <th>season</th>\n",
       "      <th>date</th>\n",
       "      <th>country</th>\n",
       "    </tr>\n",
       "  </thead>\n",
       "  <tbody>\n",
       "    <tr>\n",
       "      <th>0</th>\n",
       "      <td>1950</td>\n",
       "      <td>1950-05-13</td>\n",
       "      <td>UK</td>\n",
       "    </tr>\n",
       "    <tr>\n",
       "      <th>1</th>\n",
       "      <td>1950</td>\n",
       "      <td>1950-05-21</td>\n",
       "      <td>Monaco</td>\n",
       "    </tr>\n",
       "    <tr>\n",
       "      <th>2</th>\n",
       "      <td>1950</td>\n",
       "      <td>1950-05-30</td>\n",
       "      <td>USA</td>\n",
       "    </tr>\n",
       "    <tr>\n",
       "      <th>3</th>\n",
       "      <td>1950</td>\n",
       "      <td>1950-06-04</td>\n",
       "      <td>Switzerland</td>\n",
       "    </tr>\n",
       "    <tr>\n",
       "      <th>4</th>\n",
       "      <td>1950</td>\n",
       "      <td>1950-06-18</td>\n",
       "      <td>Belgium</td>\n",
       "    </tr>\n",
       "  </tbody>\n",
       "</table>\n",
       "</div>"
      ],
      "text/plain": [
       "   season        date      country\n",
       "0    1950  1950-05-13           UK\n",
       "1    1950  1950-05-21       Monaco\n",
       "2    1950  1950-05-30          USA\n",
       "3    1950  1950-06-04  Switzerland\n",
       "4    1950  1950-06-18      Belgium"
      ]
     },
     "execution_count": 15,
     "metadata": {},
     "output_type": "execute_result"
    }
   ],
   "source": [
    "f1_races[['season', 'date', 'country']].head()"
   ]
  },
  {
   "cell_type": "code",
   "execution_count": 16,
   "metadata": {},
   "outputs": [
    {
     "data": {
      "text/html": [
       "<div>\n",
       "<style scoped>\n",
       "    .dataframe tbody tr th:only-of-type {\n",
       "        vertical-align: middle;\n",
       "    }\n",
       "\n",
       "    .dataframe tbody tr th {\n",
       "        vertical-align: top;\n",
       "    }\n",
       "\n",
       "    .dataframe thead th {\n",
       "        text-align: right;\n",
       "    }\n",
       "</style>\n",
       "<table border=\"1\" class=\"dataframe\">\n",
       "  <thead>\n",
       "    <tr style=\"text-align: right;\">\n",
       "      <th></th>\n",
       "      <th>season</th>\n",
       "      <th>round</th>\n",
       "      <th>circuit_id</th>\n",
       "      <th>raceName</th>\n",
       "      <th>url</th>\n",
       "      <th>LAT</th>\n",
       "      <th>LONG</th>\n",
       "      <th>locality</th>\n",
       "      <th>country</th>\n",
       "      <th>date</th>\n",
       "      <th>time</th>\n",
       "    </tr>\n",
       "  </thead>\n",
       "  <tbody>\n",
       "    <tr>\n",
       "      <th>1068</th>\n",
       "      <td>2022</td>\n",
       "      <td>12</td>\n",
       "      <td>ricard</td>\n",
       "      <td>French Grand Prix</td>\n",
       "      <td>http://en.wikipedia.org/wiki/2022_French_Grand...</td>\n",
       "      <td>43.2506</td>\n",
       "      <td>5.79167</td>\n",
       "      <td>Le Castellet</td>\n",
       "      <td>France</td>\n",
       "      <td>2022-07-24</td>\n",
       "      <td>13:00:00Z</td>\n",
       "    </tr>\n",
       "    <tr>\n",
       "      <th>1069</th>\n",
       "      <td>2022</td>\n",
       "      <td>13</td>\n",
       "      <td>hungaroring</td>\n",
       "      <td>Hungarian Grand Prix</td>\n",
       "      <td>http://en.wikipedia.org/wiki/2022_Hungarian_Gr...</td>\n",
       "      <td>47.5789</td>\n",
       "      <td>19.24860</td>\n",
       "      <td>Budapest</td>\n",
       "      <td>Hungary</td>\n",
       "      <td>2022-07-31</td>\n",
       "      <td>13:00:00Z</td>\n",
       "    </tr>\n",
       "    <tr>\n",
       "      <th>1070</th>\n",
       "      <td>2022</td>\n",
       "      <td>14</td>\n",
       "      <td>spa</td>\n",
       "      <td>Belgian Grand Prix</td>\n",
       "      <td>http://en.wikipedia.org/wiki/2022_Belgian_Gran...</td>\n",
       "      <td>50.4372</td>\n",
       "      <td>5.97139</td>\n",
       "      <td>Spa</td>\n",
       "      <td>Belgium</td>\n",
       "      <td>2022-08-28</td>\n",
       "      <td>13:00:00Z</td>\n",
       "    </tr>\n",
       "    <tr>\n",
       "      <th>1071</th>\n",
       "      <td>2022</td>\n",
       "      <td>15</td>\n",
       "      <td>zandvoort</td>\n",
       "      <td>Dutch Grand Prix</td>\n",
       "      <td>http://en.wikipedia.org/wiki/2022_Dutch_Grand_...</td>\n",
       "      <td>52.3888</td>\n",
       "      <td>4.54092</td>\n",
       "      <td>Zandvoort</td>\n",
       "      <td>Netherlands</td>\n",
       "      <td>2022-09-04</td>\n",
       "      <td>13:00:00Z</td>\n",
       "    </tr>\n",
       "    <tr>\n",
       "      <th>1072</th>\n",
       "      <td>2022</td>\n",
       "      <td>16</td>\n",
       "      <td>monza</td>\n",
       "      <td>Italian Grand Prix</td>\n",
       "      <td>http://en.wikipedia.org/wiki/2022_Italian_Gran...</td>\n",
       "      <td>45.6156</td>\n",
       "      <td>9.28111</td>\n",
       "      <td>Monza</td>\n",
       "      <td>Italy</td>\n",
       "      <td>2022-09-11</td>\n",
       "      <td>13:00:00Z</td>\n",
       "    </tr>\n",
       "    <tr>\n",
       "      <th>1073</th>\n",
       "      <td>2022</td>\n",
       "      <td>17</td>\n",
       "      <td>marina_bay</td>\n",
       "      <td>Singapore Grand Prix</td>\n",
       "      <td>http://en.wikipedia.org/wiki/2022_Singapore_Gr...</td>\n",
       "      <td>1.2914</td>\n",
       "      <td>103.86400</td>\n",
       "      <td>Marina Bay</td>\n",
       "      <td>Singapore</td>\n",
       "      <td>2022-10-02</td>\n",
       "      <td>12:00:00Z</td>\n",
       "    </tr>\n",
       "    <tr>\n",
       "      <th>1074</th>\n",
       "      <td>2022</td>\n",
       "      <td>18</td>\n",
       "      <td>suzuka</td>\n",
       "      <td>Japanese Grand Prix</td>\n",
       "      <td>http://en.wikipedia.org/wiki/2022_Japanese_Gra...</td>\n",
       "      <td>34.8431</td>\n",
       "      <td>136.54100</td>\n",
       "      <td>Suzuka</td>\n",
       "      <td>Japan</td>\n",
       "      <td>2022-10-09</td>\n",
       "      <td>05:00:00Z</td>\n",
       "    </tr>\n",
       "    <tr>\n",
       "      <th>1075</th>\n",
       "      <td>2022</td>\n",
       "      <td>19</td>\n",
       "      <td>americas</td>\n",
       "      <td>United States Grand Prix</td>\n",
       "      <td>http://en.wikipedia.org/wiki/2022_United_State...</td>\n",
       "      <td>30.1328</td>\n",
       "      <td>-97.64110</td>\n",
       "      <td>Austin</td>\n",
       "      <td>USA</td>\n",
       "      <td>2022-10-23</td>\n",
       "      <td>19:00:00Z</td>\n",
       "    </tr>\n",
       "  </tbody>\n",
       "</table>\n",
       "</div>"
      ],
      "text/plain": [
       "      season  round   circuit_id                  raceName  \\\n",
       "1068    2022     12       ricard         French Grand Prix   \n",
       "1069    2022     13  hungaroring      Hungarian Grand Prix   \n",
       "1070    2022     14          spa        Belgian Grand Prix   \n",
       "1071    2022     15    zandvoort          Dutch Grand Prix   \n",
       "1072    2022     16        monza        Italian Grand Prix   \n",
       "1073    2022     17   marina_bay      Singapore Grand Prix   \n",
       "1074    2022     18       suzuka       Japanese Grand Prix   \n",
       "1075    2022     19     americas  United States Grand Prix   \n",
       "\n",
       "                                                    url      LAT       LONG  \\\n",
       "1068  http://en.wikipedia.org/wiki/2022_French_Grand...  43.2506    5.79167   \n",
       "1069  http://en.wikipedia.org/wiki/2022_Hungarian_Gr...  47.5789   19.24860   \n",
       "1070  http://en.wikipedia.org/wiki/2022_Belgian_Gran...  50.4372    5.97139   \n",
       "1071  http://en.wikipedia.org/wiki/2022_Dutch_Grand_...  52.3888    4.54092   \n",
       "1072  http://en.wikipedia.org/wiki/2022_Italian_Gran...  45.6156    9.28111   \n",
       "1073  http://en.wikipedia.org/wiki/2022_Singapore_Gr...   1.2914  103.86400   \n",
       "1074  http://en.wikipedia.org/wiki/2022_Japanese_Gra...  34.8431  136.54100   \n",
       "1075  http://en.wikipedia.org/wiki/2022_United_State...  30.1328  -97.64110   \n",
       "\n",
       "          locality      country        date       time  \n",
       "1068  Le Castellet       France  2022-07-24  13:00:00Z  \n",
       "1069      Budapest      Hungary  2022-07-31  13:00:00Z  \n",
       "1070           Spa      Belgium  2022-08-28  13:00:00Z  \n",
       "1071     Zandvoort  Netherlands  2022-09-04  13:00:00Z  \n",
       "1072         Monza        Italy  2022-09-11  13:00:00Z  \n",
       "1073    Marina Bay    Singapore  2022-10-02  12:00:00Z  \n",
       "1074        Suzuka        Japan  2022-10-09  05:00:00Z  \n",
       "1075        Austin          USA  2022-10-23  19:00:00Z  "
      ]
     },
     "execution_count": 16,
     "metadata": {},
     "output_type": "execute_result"
    }
   ],
   "source": [
    "f1_races[1068:1076]"
   ]
  },
  {
   "cell_type": "markdown",
   "metadata": {},
   "source": [
    "### Indexing\n",
    "Use `iloc[]` to select rows and columns by their positions:"
   ]
  },
  {
   "cell_type": "code",
   "execution_count": 17,
   "metadata": {},
   "outputs": [
    {
     "data": {
      "text/html": [
       "<div>\n",
       "<style scoped>\n",
       "    .dataframe tbody tr th:only-of-type {\n",
       "        vertical-align: middle;\n",
       "    }\n",
       "\n",
       "    .dataframe tbody tr th {\n",
       "        vertical-align: top;\n",
       "    }\n",
       "\n",
       "    .dataframe thead th {\n",
       "        text-align: right;\n",
       "    }\n",
       "</style>\n",
       "<table border=\"1\" class=\"dataframe\">\n",
       "  <thead>\n",
       "    <tr style=\"text-align: right;\">\n",
       "      <th></th>\n",
       "      <th>season</th>\n",
       "      <th>circuit_id</th>\n",
       "      <th>LAT</th>\n",
       "      <th>LONG</th>\n",
       "    </tr>\n",
       "  </thead>\n",
       "  <tbody>\n",
       "    <tr>\n",
       "      <th>1068</th>\n",
       "      <td>2022</td>\n",
       "      <td>ricard</td>\n",
       "      <td>43.2506</td>\n",
       "      <td>5.79167</td>\n",
       "    </tr>\n",
       "    <tr>\n",
       "      <th>1069</th>\n",
       "      <td>2022</td>\n",
       "      <td>hungaroring</td>\n",
       "      <td>47.5789</td>\n",
       "      <td>19.24860</td>\n",
       "    </tr>\n",
       "    <tr>\n",
       "      <th>1070</th>\n",
       "      <td>2022</td>\n",
       "      <td>spa</td>\n",
       "      <td>50.4372</td>\n",
       "      <td>5.97139</td>\n",
       "    </tr>\n",
       "    <tr>\n",
       "      <th>1071</th>\n",
       "      <td>2022</td>\n",
       "      <td>zandvoort</td>\n",
       "      <td>52.3888</td>\n",
       "      <td>4.54092</td>\n",
       "    </tr>\n",
       "    <tr>\n",
       "      <th>1072</th>\n",
       "      <td>2022</td>\n",
       "      <td>monza</td>\n",
       "      <td>45.6156</td>\n",
       "      <td>9.28111</td>\n",
       "    </tr>\n",
       "    <tr>\n",
       "      <th>1073</th>\n",
       "      <td>2022</td>\n",
       "      <td>marina_bay</td>\n",
       "      <td>1.2914</td>\n",
       "      <td>103.86400</td>\n",
       "    </tr>\n",
       "    <tr>\n",
       "      <th>1074</th>\n",
       "      <td>2022</td>\n",
       "      <td>suzuka</td>\n",
       "      <td>34.8431</td>\n",
       "      <td>136.54100</td>\n",
       "    </tr>\n",
       "    <tr>\n",
       "      <th>1075</th>\n",
       "      <td>2022</td>\n",
       "      <td>americas</td>\n",
       "      <td>30.1328</td>\n",
       "      <td>-97.64110</td>\n",
       "    </tr>\n",
       "  </tbody>\n",
       "</table>\n",
       "</div>"
      ],
      "text/plain": [
       "      season   circuit_id      LAT       LONG\n",
       "1068    2022       ricard  43.2506    5.79167\n",
       "1069    2022  hungaroring  47.5789   19.24860\n",
       "1070    2022          spa  50.4372    5.97139\n",
       "1071    2022    zandvoort  52.3888    4.54092\n",
       "1072    2022        monza  45.6156    9.28111\n",
       "1073    2022   marina_bay   1.2914  103.86400\n",
       "1074    2022       suzuka  34.8431  136.54100\n",
       "1075    2022     americas  30.1328  -97.64110"
      ]
     },
     "execution_count": 17,
     "metadata": {},
     "output_type": "execute_result"
    }
   ],
   "source": [
    "f1_races.iloc[1068:1076, [0, 2, 5, 6]]"
   ]
  },
  {
   "cell_type": "markdown",
   "metadata": {},
   "source": [
    "Use `loc[]` to select by name:"
   ]
  },
  {
   "cell_type": "code",
   "execution_count": 18,
   "metadata": {},
   "outputs": [
    {
     "data": {
      "text/html": [
       "<div>\n",
       "<style scoped>\n",
       "    .dataframe tbody tr th:only-of-type {\n",
       "        vertical-align: middle;\n",
       "    }\n",
       "\n",
       "    .dataframe tbody tr th {\n",
       "        vertical-align: top;\n",
       "    }\n",
       "\n",
       "    .dataframe thead th {\n",
       "        text-align: right;\n",
       "    }\n",
       "</style>\n",
       "<table border=\"1\" class=\"dataframe\">\n",
       "  <thead>\n",
       "    <tr style=\"text-align: right;\">\n",
       "      <th></th>\n",
       "      <th>season</th>\n",
       "      <th>round</th>\n",
       "      <th>circuit_id</th>\n",
       "    </tr>\n",
       "  </thead>\n",
       "  <tbody>\n",
       "    <tr>\n",
       "      <th>1068</th>\n",
       "      <td>2022</td>\n",
       "      <td>12</td>\n",
       "      <td>ricard</td>\n",
       "    </tr>\n",
       "    <tr>\n",
       "      <th>1069</th>\n",
       "      <td>2022</td>\n",
       "      <td>13</td>\n",
       "      <td>hungaroring</td>\n",
       "    </tr>\n",
       "    <tr>\n",
       "      <th>1070</th>\n",
       "      <td>2022</td>\n",
       "      <td>14</td>\n",
       "      <td>spa</td>\n",
       "    </tr>\n",
       "    <tr>\n",
       "      <th>1071</th>\n",
       "      <td>2022</td>\n",
       "      <td>15</td>\n",
       "      <td>zandvoort</td>\n",
       "    </tr>\n",
       "    <tr>\n",
       "      <th>1072</th>\n",
       "      <td>2022</td>\n",
       "      <td>16</td>\n",
       "      <td>monza</td>\n",
       "    </tr>\n",
       "    <tr>\n",
       "      <th>1073</th>\n",
       "      <td>2022</td>\n",
       "      <td>17</td>\n",
       "      <td>marina_bay</td>\n",
       "    </tr>\n",
       "    <tr>\n",
       "      <th>1074</th>\n",
       "      <td>2022</td>\n",
       "      <td>18</td>\n",
       "      <td>suzuka</td>\n",
       "    </tr>\n",
       "    <tr>\n",
       "      <th>1075</th>\n",
       "      <td>2022</td>\n",
       "      <td>19</td>\n",
       "      <td>americas</td>\n",
       "    </tr>\n",
       "    <tr>\n",
       "      <th>1076</th>\n",
       "      <td>2022</td>\n",
       "      <td>20</td>\n",
       "      <td>rodriguez</td>\n",
       "    </tr>\n",
       "  </tbody>\n",
       "</table>\n",
       "</div>"
      ],
      "text/plain": [
       "      season  round   circuit_id\n",
       "1068    2022     12       ricard\n",
       "1069    2022     13  hungaroring\n",
       "1070    2022     14          spa\n",
       "1071    2022     15    zandvoort\n",
       "1072    2022     16        monza\n",
       "1073    2022     17   marina_bay\n",
       "1074    2022     18       suzuka\n",
       "1075    2022     19     americas\n",
       "1076    2022     20    rodriguez"
      ]
     },
     "execution_count": 18,
     "metadata": {},
     "output_type": "execute_result"
    }
   ],
   "source": [
    "f1_races.loc[1068:1076, 'season':'circuit_id']\n"
   ]
  },
  {
   "cell_type": "markdown",
   "metadata": {},
   "source": [
    "### Filtering\n",
    "A **Boolean mask** is a array-like structure of Boolean values – it's a way to specify which rows/columns we want to select (True) and which we don't (False)."
   ]
  },
  {
   "cell_type": "code",
   "execution_count": null,
   "metadata": {},
   "outputs": [],
   "source": [
    "f1_races[f1_races['season'] == 2022]"
   ]
  },
  {
   "cell_type": "code",
   "execution_count": null,
   "metadata": {},
   "outputs": [],
   "source": [
    "f1_races[(f1_races['season'] == 2022) & (f1_races['date'] < '2022-09-01')]"
   ]
  },
  {
   "cell_type": "markdown",
   "metadata": {},
   "source": [
    "We can also use query instead:"
   ]
  },
  {
   "cell_type": "code",
   "execution_count": null,
   "metadata": {},
   "outputs": [],
   "source": [
    "f1_races.query(\"`season` == 2022 and `date` < '2022-09-01'\")"
   ]
  },
  {
   "cell_type": "markdown",
   "metadata": {},
   "source": [
    "### Statistics"
   ]
  },
  {
   "cell_type": "code",
   "execution_count": null,
   "metadata": {},
   "outputs": [],
   "source": [
    "# how many races were held in each country throughout the years?\n",
    "f1_races.country.value_counts()"
   ]
  },
  {
   "cell_type": "code",
   "execution_count": null,
   "metadata": {},
   "outputs": [],
   "source": [
    "# how many circuits in each season?\n",
    "f1_races.season.value_counts()"
   ]
  },
  {
   "cell_type": "code",
   "execution_count": null,
   "metadata": {},
   "outputs": [],
   "source": [
    "# how many circuits between 1955 and 1975?"
   ]
  },
  {
   "cell_type": "markdown",
   "metadata": {},
   "source": [
    "### Continue with the race results"
   ]
  },
  {
   "cell_type": "code",
   "execution_count": null,
   "metadata": {},
   "outputs": [],
   "source": [
    "# analyse a sample\n",
    "url = 'https://ergast.com/api/f1/2022/12/results.json'\n",
    "r = requests.get(url)\n",
    "j = r.json()\n",
    "\n",
    "df = pd.DataFrame(j['MRData']['RaceTable']['Races'][0]['Results'])\n",
    "\n",
    "df.head()"
   ]
  },
  {
   "cell_type": "code",
   "execution_count": null,
   "metadata": {},
   "outputs": [],
   "source": [
    "# get the latest race's results\n",
    "\n",
    "f1_results_latest = {\n",
    "    'season': [],\n",
    "    'Round': [],\n",
    "    'date': [],\n",
    "    'circuit_id': [],\n",
    "    'driver': [],\n",
    "    'DATE_of_birth': [],\n",
    "    'nationality': [],\n",
    "    'constructor': [],\n",
    "    'GriD': [],\n",
    "    'tIME': [],\n",
    "    'Status': [],\n",
    "    'points': [],\n",
    "    'podium': []\n",
    "}\n",
    "\n",
    "url_latest = 'https://ergast.com/api/f1/current/last/results.json'\n",
    "r = requests.get(url_latest)\n",
    "print(r)\n",
    "j = r.json()\n",
    "\n",
    "try:\n",
    "    for item in j['MRData']['RaceTable']['Races'][0]['Results']:\n",
    "        try:\n",
    "            f1_results_latest['season'].append(int(j['MRData']['RaceTable']['Races'][0]['season']))\n",
    "            f1_results_latest['Round'].append(int(j['MRData']['RaceTable']['Races'][0]['round']))\n",
    "            f1_results_latest['date'].append(j['MRData']['RaceTable']['Races'][0]['date'])\n",
    "            f1_results_latest['circuit_id'].append(j['MRData']['RaceTable']['Races'][0]['Circuit']['circuitId'])\n",
    "            f1_results_latest['driver'].append(item['Driver']['driverId'])\n",
    "            f1_results_latest['DATE_of_birth'].append(item['Driver']['dateOfBirth'])\n",
    "            f1_results_latest['nationality'].append(item['Driver']['nationality'])\n",
    "            f1_results_latest['constructor'].append(item['Constructor']['constructorId'])\n",
    "            f1_results_latest['GriD'].append(int(item['grid']))\n",
    "            f1_results_latest['tIME'].append(int((item.get('Time') or {}).get('millis')) \n",
    "        if bool((item.get('Time') or {}).get('millis')) else None)\n",
    "            f1_results_latest['Status'].append(item['status'])\n",
    "            f1_results_latest['points'].append(item['points'])\n",
    "            f1_results_latest['podium'].append(int(item['position']))\n",
    "        except Exception as e:\n",
    "            print(f'Error adding item: {item}')\n",
    "            print(e)\n",
    "            raise\n",
    "except IndexError:\n",
    "    print(f'Race has not happened yet... ')\n",
    "\n",
    "\n",
    "f1_results_latest = pd.DataFrame(f1_results_latest)\n",
    "\n",
    "f1_results_latest.head()"
   ]
  },
  {
   "cell_type": "code",
   "execution_count": null,
   "metadata": {},
   "outputs": [],
   "source": [
    "# in order not to stress the API, use the backup file for the historical data\n",
    "\n",
    "f1_results = pd.read_csv('./resources/f1_results.csv', index_col=0)\n",
    "\n",
    "# the code that generated the backup files is available in the resouces section\n"
   ]
  },
  {
   "cell_type": "code",
   "execution_count": null,
   "metadata": {},
   "outputs": [],
   "source": [
    "f1_results.head()"
   ]
  },
  {
   "cell_type": "code",
   "execution_count": null,
   "metadata": {},
   "outputs": [],
   "source": [
    "# find the dimensions (number of rows, number of columns) in the data"
   ]
  },
  {
   "cell_type": "code",
   "execution_count": null,
   "metadata": {},
   "outputs": [],
   "source": [
    "# calculate summary statistics for nationality and points (median)"
   ]
  },
  {
   "cell_type": "code",
   "execution_count": null,
   "metadata": {},
   "outputs": [],
   "source": [
    "# isolate the date, race name, driver and constructor for the 1999 season"
   ]
  },
  {
   "cell_type": "code",
   "execution_count": null,
   "metadata": {},
   "outputs": [],
   "source": [
    "# how many wins for McLaren between 1975 and 1985?"
   ]
  },
  {
   "cell_type": "markdown",
   "metadata": {},
   "source": [
    "## Data cleaning\n",
    "\n",
    "We'll be looking at creating, renaming, and dropping columns, type conversion and sorting - which will make working with this data easier\n",
    "\n",
    "### Dropping columns\n",
    "Our dataset may contain information that is not of interest for our analysis."
   ]
  },
  {
   "cell_type": "code",
   "execution_count": null,
   "metadata": {},
   "outputs": [],
   "source": [
    "# from the f1_races df, let's remove the url column\n",
    "mask = f1_races.columns.str.contains('url$', regex=True)\n",
    "columns_to_drop = f1_races.columns[mask]\n",
    "columns_to_drop"
   ]
  },
  {
   "cell_type": "code",
   "execution_count": null,
   "metadata": {},
   "outputs": [],
   "source": [
    "f1_races = f1_races.drop(columns=columns_to_drop)\n",
    "f1_races.head()"
   ]
  },
  {
   "cell_type": "code",
   "execution_count": null,
   "metadata": {},
   "outputs": [],
   "source": [
    "# another way to do this is to select what we want to keep\n",
    "mask = f1_races.columns.str.contains('url$|round', regex=True)\n",
    "f1_races.loc[:,~mask]"
   ]
  },
  {
   "cell_type": "code",
   "execution_count": null,
   "metadata": {},
   "outputs": [],
   "source": [
    "# or simply\n",
    "f1_races.drop('time', axis=1, inplace=True)"
   ]
  },
  {
   "cell_type": "markdown",
   "metadata": {},
   "source": [
    "### Renaming columns\n",
    "Some of the columns have weird names. Let's fix that."
   ]
  },
  {
   "cell_type": "code",
   "execution_count": null,
   "metadata": {},
   "outputs": [],
   "source": [
    "f1_races.rename(\n",
    "    columns={\n",
    "        'raceName': 'race_name'\n",
    "    },\n",
    "    inplace=True # careful with this!\n",
    ")\n",
    "f1_races.columns"
   ]
  },
  {
   "cell_type": "markdown",
   "metadata": {},
   "source": [
    "### Type conversion\n",
    "Is there something weird about these columns?"
   ]
  },
  {
   "cell_type": "code",
   "execution_count": null,
   "metadata": {},
   "outputs": [],
   "source": [
    "f1_races.dtypes"
   ]
  },
  {
   "cell_type": "code",
   "execution_count": null,
   "metadata": {},
   "outputs": [],
   "source": [
    "# date should be stored as datetime!\n",
    "f1_races.loc[:, ['date']] = f1_races.loc[:, ['date']].apply(pd.to_datetime)\n",
    "f1_races.dtypes"
   ]
  },
  {
   "cell_type": "code",
   "execution_count": null,
   "metadata": {},
   "outputs": [],
   "source": [
    "# or\n",
    "f1_races.loc[:, ['date']].astype({'date': 'datetime64[ns]'}).dtypes"
   ]
  },
  {
   "cell_type": "markdown",
   "metadata": {},
   "source": [
    "### Creating new columns\n",
    "Let's create a 'race_month' column."
   ]
  },
  {
   "cell_type": "code",
   "execution_count": null,
   "metadata": {},
   "outputs": [],
   "source": [
    "f1_races = f1_races.assign(\n",
    "    race_month=lambda x: x.date.dt.month_name()\n",
    ")"
   ]
  },
  {
   "cell_type": "markdown",
   "metadata": {},
   "source": [
    "You can read more about Python lambda functions [here](https://realpython.com/python-lambda/)."
   ]
  },
  {
   "cell_type": "code",
   "execution_count": null,
   "metadata": {},
   "outputs": [],
   "source": [
    "f1_races.head()"
   ]
  },
  {
   "cell_type": "markdown",
   "metadata": {},
   "source": [
    "### Sorting"
   ]
  },
  {
   "cell_type": "code",
   "execution_count": null,
   "metadata": {},
   "outputs": [],
   "source": [
    "f1_races.sort_values(['race_name', 'date'], ascending=[False, True]).head()\n"
   ]
  },
  {
   "cell_type": "code",
   "execution_count": null,
   "metadata": {},
   "outputs": [],
   "source": [
    "f1_races.nlargest(3, 'date')"
   ]
  },
  {
   "cell_type": "code",
   "execution_count": null,
   "metadata": {},
   "outputs": [],
   "source": [
    "f1_races.nsmallest(3, 'date')\n"
   ]
  },
  {
   "cell_type": "markdown",
   "metadata": {},
   "source": [
    "## Working with the index\n",
    "We haven't really worked with the index because it's just been a row number; however, we can change the values we have in the index to access additional features of the pandas library.\n",
    "\n",
    "### Setting and sorting the index\n",
    "Currently, we have a RangeIndex, but we can switch to a DatetimeIndex by specifying a datetime column when calling set_index():"
   ]
  },
  {
   "cell_type": "code",
   "execution_count": null,
   "metadata": {},
   "outputs": [],
   "source": [
    "f1_races.set_index('date', inplace=True)\n",
    "f1_races.head(3)"
   ]
  },
  {
   "cell_type": "code",
   "execution_count": null,
   "metadata": {},
   "outputs": [],
   "source": [
    "f1_races.sort_index(inplace=True, ascending=False)\n",
    "f1_races.head()"
   ]
  },
  {
   "cell_type": "markdown",
   "metadata": {},
   "source": [
    "`f1_races.sort_index(axis=1)` will sort the columns by name. \n",
    "\n",
    "The axis parameter is present throughout the pandas library: axis=0 targets rows and axis=1 targets columns."
   ]
  },
  {
   "cell_type": "code",
   "execution_count": null,
   "metadata": {},
   "outputs": [],
   "source": [
    "f1_races['2022-10-23':'2022-11-20']\n"
   ]
  },
  {
   "cell_type": "code",
   "execution_count": null,
   "metadata": {},
   "outputs": [],
   "source": [
    "# when not specifying a range\n",
    "f1_races.loc['2022-10-30']"
   ]
  },
  {
   "cell_type": "code",
   "execution_count": null,
   "metadata": {},
   "outputs": [],
   "source": [
    "f1_races.sort_index(inplace=True, ascending=True)\n",
    "f1_races.head()"
   ]
  },
  {
   "cell_type": "markdown",
   "metadata": {},
   "source": [
    "### Resetting the index\n"
   ]
  },
  {
   "cell_type": "code",
   "execution_count": null,
   "metadata": {},
   "outputs": [],
   "source": [
    "f1_races.reset_index(inplace=True)\n",
    "f1_races.head()"
   ]
  },
  {
   "cell_type": "markdown",
   "metadata": {},
   "source": [
    "### Reshaping the data\n"
   ]
  },
  {
   "cell_type": "code",
   "execution_count": null,
   "metadata": {},
   "outputs": [],
   "source": [
    "# lowercase all column names so the dataset is easier to work with\n",
    "f1_races = f1_races.rename(columns=lambda x: x.lower())\n",
    "f1_races.head()"
   ]
  },
  {
   "cell_type": "markdown",
   "metadata": {},
   "source": [
    "## Data visualisation"
   ]
  },
  {
   "cell_type": "markdown",
   "metadata": {},
   "source": [
    "## Plotting with pandas\n",
    "\n",
    "To embed SVG-format plots in the notebook, we will also call the %config and %matplotlib `inline` magics:"
   ]
  },
  {
   "cell_type": "code",
   "execution_count": null,
   "metadata": {
    "vscode": {
     "languageId": "xml"
    }
   },
   "outputs": [],
   "source": [
    "%config InlineBackend.figure_formats = ['svg']"
   ]
  },
  {
   "cell_type": "markdown",
   "metadata": {},
   "source": [
    "You can read more about magics [here](https://ipython.readthedocs.io/en/stable/interactive/magics.html)."
   ]
  },
  {
   "cell_type": "code",
   "execution_count": null,
   "metadata": {},
   "outputs": [],
   "source": [
    "# the plot() method will generate line plots for all numeric columns by default\n",
    "f1_races.plot(title='not very helpful', ylabel='year', alpha=1)"
   ]
  },
  {
   "cell_type": "markdown",
   "metadata": {},
   "source": [
    "The `plot()` method returns an Axes object that can be modified further (e.g., to add reference lines, annotations, labels, etc.). Let's walk through an example."
   ]
  },
  {
   "cell_type": "code",
   "execution_count": null,
   "metadata": {},
   "outputs": [],
   "source": [
    "f1_races.head()"
   ]
  },
  {
   "cell_type": "code",
   "execution_count": null,
   "metadata": {},
   "outputs": [],
   "source": [
    "f1_races.tail(104)"
   ]
  },
  {
   "cell_type": "code",
   "execution_count": null,
   "metadata": {},
   "outputs": [],
   "source": [
    "# bar plots would be more useful for this dataset\n",
    "f1_races.set_index('date', inplace=True)\n",
    "plot_data = f1_races['2018-03-25':'2022-11-20']\\\n",
    "    .assign(race_month_order=lambda x: x.index.month)\\\n",
    "    .pivot_table(index='race_month_order', columns='season', values='round', aggfunc='count')\n",
    "\n",
    "f1_races.reset_index(inplace=True)\n",
    "plot_data.head(10)\n",
    "# plot_data.info()\n"
   ]
  },
  {
   "cell_type": "code",
   "execution_count": null,
   "metadata": {},
   "outputs": [],
   "source": [
    "ax = plot_data.plot(\n",
    "    kind='bar', rot=0, xlabel='', ylabel='rounds',\n",
    "    figsize=(8, 1.5), title='f1_races per month'\n",
    ")\n",
    "\n",
    "# customize the legend\n",
    "ax.legend(title='', loc='center', bbox_to_anchor=(-0.2, 0.5), ncol=1)"
   ]
  },
  {
   "cell_type": "markdown",
   "metadata": {},
   "source": [
    "# Let's find out some stuff\n",
    "Using the `f1_results` dataset."
   ]
  },
  {
   "cell_type": "code",
   "execution_count": null,
   "metadata": {},
   "outputs": [],
   "source": [
    "# first, clean up the data in the f1_results dataframe\n",
    "\n",
    "# lowercase all the columns so that they are easier to use"
   ]
  },
  {
   "cell_type": "code",
   "execution_count": null,
   "metadata": {},
   "outputs": [],
   "source": [
    "# what columns are in this dataset?"
   ]
  },
  {
   "cell_type": "code",
   "execution_count": null,
   "metadata": {},
   "outputs": [],
   "source": [
    "# how many distinct drivers are in the dataset?"
   ]
  },
  {
   "cell_type": "code",
   "execution_count": null,
   "metadata": {},
   "outputs": [],
   "source": [
    "# which of those drivers are Austrian?"
   ]
  },
  {
   "cell_type": "code",
   "execution_count": null,
   "metadata": {},
   "outputs": [],
   "source": [
    "# what are the results from the latest race?\n",
    "\n",
    "# hint: you may use the date column; convert it to datetime first!\n"
   ]
  },
  {
   "cell_type": "code",
   "execution_count": null,
   "metadata": {},
   "outputs": [],
   "source": [
    "# who won the race? how many races has this pilot won this year?\n",
    "\n",
    "# hints:\n",
    "# get the winner by filterinf f1_results on 'date' and 'podium';\n",
    "# then use iloc[i][j] to access the first (and only) row (i) of the dataframe and the 'driver' column (j)\n",
    "# winner = f1_results[ ... filters ... ].iloc[i][j]\n",
    "\n",
    "\n",
    "# use this ^ to filter f1_results on season, podium and driver\n",
    "# and then count\n"
   ]
  },
  {
   "cell_type": "code",
   "execution_count": null,
   "metadata": {},
   "outputs": [],
   "source": [
    "# on which circuit did Lewis Hamilton have the most wins?"
   ]
  },
  {
   "cell_type": "markdown",
   "metadata": {},
   "source": [
    "# Formula 1 Driver Career Analysis\n",
    "Let't analyse the career of one of the most succesful F1 drivers of all time.\n",
    "\n",
    "Pick a driver from the list in [this article](https://www.redbull.com/ca-en/best-f1-drivers-of-all-time) and analyse their career below.\n",
    "\n",
    "Or you can pick your favourite driver instead =)"
   ]
  },
  {
   "cell_type": "code",
   "execution_count": null,
   "metadata": {},
   "outputs": [],
   "source": [
    "# look for your driver's id in the list\n",
    "f1_results['driver'].unique()"
   ]
  },
  {
   "cell_type": "code",
   "execution_count": null,
   "metadata": {},
   "outputs": [],
   "source": [
    "# which driver have you chosen?\n",
    "driver = '...'\n",
    "\n",
    "# what nationality is this driver?\n",
    "nationality = ...\n",
    "print(f\"{driver}'s nationality is {nationality}\")\n"
   ]
  },
  {
   "cell_type": "code",
   "execution_count": null,
   "metadata": {},
   "outputs": [],
   "source": [
    "# when was his first race and for which constructor?\n",
    "races = ...\n",
    "first_race_date = ...\n",
    "first_race_constructor = ...\n",
    "print(f\"{driver}'s first race was on {first_race_date} with {first_race_constructor}\")"
   ]
  },
  {
   "cell_type": "code",
   "execution_count": null,
   "metadata": {},
   "outputs": [],
   "source": [
    "# when was his first podium + with which constructor?\n",
    "# keep in mind the driver may have been on the podium 0 times\n",
    "podiums = ...\n",
    "first_podium_date = ...\n",
    "first_podium_constructor = ...\n",
    "print(f\"{driver}'s first podium was on {first_podium_date} with {first_podium_constructor}\")"
   ]
  },
  {
   "cell_type": "code",
   "execution_count": null,
   "metadata": {},
   "outputs": [],
   "source": [
    "# what about his first win + with which constructor + which circuit?\n",
    "# keep in mind the driver may have won 0 races\n",
    "first_win = ...\n",
    "first_win_date = ...\n",
    "first_win_constructor = ...\n",
    "first_win_circuit = ...\n",
    "print(f\"{driver}'s first win was on {first_win_date} with {first_win_constructor} at {first_win_circuit}\")"
   ]
  },
  {
   "cell_type": "code",
   "execution_count": null,
   "metadata": {},
   "outputs": [],
   "source": [
    "# how many race starts?\n",
    "# hint: check the Status is NOT one of Did not qualify, Did not prequalify, Not classified\n",
    "race_starts = ...\n",
    "print(f\"{driver} has {race_starts} race starts\")"
   ]
  },
  {
   "cell_type": "code",
   "execution_count": null,
   "metadata": {},
   "outputs": [],
   "source": [
    "# how many of those races did he actually finished?\n",
    "# hint: look for Status Finished; for this exercise, we'll not consider other statuses as successful\n",
    "races_finished = ...\n",
    "print(f\"{driver} has finished {races_finished} races\")"
   ]
  },
  {
   "cell_type": "code",
   "execution_count": null,
   "metadata": {},
   "outputs": [],
   "source": [
    "# how many has he won?\n",
    "races_won = ...\n",
    "print(f\"{driver} has won {races_won} races\")"
   ]
  },
  {
   "cell_type": "code",
   "execution_count": null,
   "metadata": {},
   "outputs": [],
   "source": [
    "# create a dataframe that contains the follwing information:\n",
    "#\n",
    "# driver\n",
    "# nationality\n",
    "# season\n",
    "# circuit_id\n",
    "# race_started (Boolean)\n",
    "# race_finished (Boolean)\n",
    "# race_won (Boolean)\n",
    "# constructor\n",
    "\n",
    "f1_career = ...\n",
    "\n",
    "f1_career.head()"
   ]
  },
  {
   "cell_type": "markdown",
   "metadata": {},
   "source": [
    "## Plotting the results"
   ]
  },
  {
   "cell_type": "code",
   "execution_count": null,
   "metadata": {},
   "outputs": [],
   "source": [
    "# plot the race results per season\n",
    "\n",
    "# prep the data\n",
    "f1_career['race_started'] = f1_career['race_started'].astype(int)\n",
    "f1_career['race_finished'] = f1_career['race_finished'].astype(int)\n",
    "f1_career['race_won'] = f1_career['race_won'].astype(int)\n",
    "\n",
    "plot_data_wins = f1_career.pivot_table(index=\"season\", columns=\"driver\", values=\"race_won\", aggfunc=\"sum\")\n",
    "plot_data_start = f1_career.pivot_table(index=\"season\", columns=\"driver\", values=\"race_started\", aggfunc=\"sum\")\n"
   ]
  },
  {
   "cell_type": "code",
   "execution_count": null,
   "metadata": {},
   "outputs": [],
   "source": [
    "plot_data_wins.plot(title=f\"{driver}'s F1 Wins\", ylabel=\"races\")"
   ]
  },
  {
   "cell_type": "code",
   "execution_count": null,
   "metadata": {},
   "outputs": [],
   "source": [
    "plot_data_start.plot(title=f\"{driver}'s F1 Race Starts\", ylabel=\"races\")"
   ]
  },
  {
   "cell_type": "markdown",
   "metadata": {},
   "source": [
    "### Combine the plots"
   ]
  },
  {
   "cell_type": "code",
   "execution_count": null,
   "metadata": {},
   "outputs": [],
   "source": [
    "from functools import reduce\n",
    "\n",
    "plot_data = reduce(lambda  left,right: pd.merge(left,right,on=[\"season\"], how='inner'), [plot_data_start, plot_data_wins])\n",
    "plot_data.rename(\n",
    "    columns={\n",
    "        f\"{driver}_x\": \"starts\",\n",
    "        f\"{driver}_y\": \"wins\"\n",
    "    }, inplace=True)\n",
    "plot_data.head()"
   ]
  },
  {
   "cell_type": "code",
   "execution_count": null,
   "metadata": {},
   "outputs": [],
   "source": [
    "plot_data.plot(title=f\"{driver}'s F1 Career\", ylabel=\"races\")"
   ]
  },
  {
   "cell_type": "markdown",
   "metadata": {},
   "source": [
    "### Export the results"
   ]
  },
  {
   "cell_type": "code",
   "execution_count": null,
   "metadata": {},
   "outputs": [],
   "source": [
    "# explore more possibilities to store the results, e.g. to_sql()\n",
    "f1_career.to_csv(f\"./results/f1_career_{driver}.csv\", index=False)"
   ]
  },
  {
   "cell_type": "markdown",
   "metadata": {},
   "source": [
    "# Further reading\n",
    "* [Loading a Dataframe from a SQL database](https://pythonspeed.com/articles/pandas-sql-chunking/)\n",
    "* [Connecting to Redshift from Python](https://docs.aws.amazon.com/redshift/latest/mgmt/python-connect-examples.html)\n",
    "* [Pandas I/O](https://pandas.pydata.org/docs/reference/io.html)"
   ]
  }
 ],
 "metadata": {
  "kernelspec": {
   "display_name": "Python 3.9.12 ('base')",
   "language": "python",
   "name": "python3"
  },
  "language_info": {
   "codemirror_mode": {
    "name": "ipython",
    "version": 3
   },
   "file_extension": ".py",
   "mimetype": "text/x-python",
   "name": "python",
   "nbconvert_exporter": "python",
   "pygments_lexer": "ipython3",
   "version": "3.9.12"
  },
  "orig_nbformat": 4,
  "vscode": {
   "interpreter": {
    "hash": "d31b83e9610685068a0fe73b54051d44dc1110027bef1c52e64b671e72faac45"
   }
  }
 },
 "nbformat": 4,
 "nbformat_minor": 2
}
